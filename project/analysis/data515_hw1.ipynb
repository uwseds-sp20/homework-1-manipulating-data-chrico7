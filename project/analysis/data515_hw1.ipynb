{
 "cells": [
  {
   "cell_type": "code",
   "execution_count": 1,
   "metadata": {},
   "outputs": [],
   "source": [
    "### DATA 515 - Homework 1\n",
    "### Corey Christopherson\n",
    "### 4-14-2020\n",
    "#\n",
    "# TASKS\n",
    "#\n",
    "# Given the CSV file containing the counts of bicycles crossing the Fremont Bridge since 2012 \n",
    "# Fremont_Bridge_Bicycle_Counter.csv\n",
    "#\n",
    "# 1. Read the CSV file into a pandas dataframe. (1 pt)\n",
    "# 2. Add columns to the dataframe containing: ( 3 pt)\n",
    "#    i.   The total (East + West) bicycle count\n",
    "#    ii.  The hour of the day\n",
    "#    iii. The year\n",
    "# 3. Create a dataframe with the subset of data from the year 2016 (1 pt)\n",
    "# 4. Use pandas + matplotlib to plot the counts by hour. (1 pt)\n",
    "#    (i.e. hour of the day on the x-axis, total daily counts on the y-axis)\n",
    "# 5. Use pandas to determine what is (on average) the busiest hour of the day (1 pt)\n",
    "#\n",
    "# NOTES\n",
    "# - \n",
    "# "
   ]
  },
  {
   "cell_type": "code",
   "execution_count": 54,
   "metadata": {},
   "outputs": [],
   "source": [
    "import numpy as np\n",
    "import pandas as pd\n",
    "import matplotlib.pyplot as plt\n",
    "import os as os"
   ]
  },
  {
   "cell_type": "code",
   "execution_count": 10,
   "metadata": {},
   "outputs": [],
   "source": [
    "# Paths\n",
    "path = os.getcwd()\n",
    "data_path = os.path.join(os.path.expanduser('~'), 'data515_hw1', 'project', 'data')"
   ]
  },
  {
   "cell_type": "code",
   "execution_count": 9,
   "metadata": {},
   "outputs": [],
   "source": [
    "#####                                          #####\n",
    "### 1. Read the CSV file into a pandas dataframe ###\n",
    "#####                                          #####\n",
    "\n",
    "raw_data = pd.read_csv('{}/Fremont_Bridge_Bicycle_Counter.csv'.format(data_path),\n",
    "                       parse_dates=['Date'], infer_datetime_format=True)"
   ]
  },
  {
   "cell_type": "code",
   "execution_count": 21,
   "metadata": {},
   "outputs": [
    {
     "name": "stdout",
     "output_type": "stream",
     "text": [
      "<class 'pandas.core.frame.DataFrame'>\n",
      "RangeIndex: 65688 entries, 0 to 65687\n",
      "Data columns (total 4 columns):\n",
      " #   Column                        Non-Null Count  Dtype         \n",
      "---  ------                        --------------  -----         \n",
      " 0   Date                          65688 non-null  datetime64[ns]\n",
      " 1   Fremont Bridge Total          65678 non-null  float64       \n",
      " 2   Fremont Bridge East Sidewalk  65678 non-null  float64       \n",
      " 3   Fremont Bridge West Sidewalk  65678 non-null  float64       \n",
      "dtypes: datetime64[ns](1), float64(3)\n",
      "memory usage: 2.0 MB\n"
     ]
    }
   ],
   "source": [
    "# Inspect data\n",
    "raw_data.info()"
   ]
  },
  {
   "cell_type": "code",
   "execution_count": 28,
   "metadata": {},
   "outputs": [
    {
     "data": {
      "text/html": [
       "<div>\n",
       "<style scoped>\n",
       "    .dataframe tbody tr th:only-of-type {\n",
       "        vertical-align: middle;\n",
       "    }\n",
       "\n",
       "    .dataframe tbody tr th {\n",
       "        vertical-align: top;\n",
       "    }\n",
       "\n",
       "    .dataframe thead th {\n",
       "        text-align: right;\n",
       "    }\n",
       "</style>\n",
       "<table border=\"1\" class=\"dataframe\">\n",
       "  <thead>\n",
       "    <tr style=\"text-align: right;\">\n",
       "      <th></th>\n",
       "      <th>Date</th>\n",
       "      <th>Fremont Bridge Total</th>\n",
       "      <th>Fremont Bridge East Sidewalk</th>\n",
       "      <th>Fremont Bridge West Sidewalk</th>\n",
       "    </tr>\n",
       "  </thead>\n",
       "  <tbody>\n",
       "    <tr>\n",
       "      <th>6105</th>\n",
       "      <td>2013-06-14 09:00:00</td>\n",
       "      <td>NaN</td>\n",
       "      <td>NaN</td>\n",
       "      <td>NaN</td>\n",
       "    </tr>\n",
       "    <tr>\n",
       "      <th>6106</th>\n",
       "      <td>2013-06-14 10:00:00</td>\n",
       "      <td>NaN</td>\n",
       "      <td>NaN</td>\n",
       "      <td>NaN</td>\n",
       "    </tr>\n",
       "    <tr>\n",
       "      <th>12530</th>\n",
       "      <td>2014-03-09 02:00:00</td>\n",
       "      <td>NaN</td>\n",
       "      <td>NaN</td>\n",
       "      <td>NaN</td>\n",
       "    </tr>\n",
       "    <tr>\n",
       "      <th>21266</th>\n",
       "      <td>2015-03-08 02:00:00</td>\n",
       "      <td>NaN</td>\n",
       "      <td>NaN</td>\n",
       "      <td>NaN</td>\n",
       "    </tr>\n",
       "    <tr>\n",
       "      <th>22331</th>\n",
       "      <td>2015-04-21 11:00:00</td>\n",
       "      <td>NaN</td>\n",
       "      <td>NaN</td>\n",
       "      <td>NaN</td>\n",
       "    </tr>\n",
       "    <tr>\n",
       "      <th>22332</th>\n",
       "      <td>2015-04-21 12:00:00</td>\n",
       "      <td>NaN</td>\n",
       "      <td>NaN</td>\n",
       "      <td>NaN</td>\n",
       "    </tr>\n",
       "    <tr>\n",
       "      <th>30170</th>\n",
       "      <td>2016-03-13 02:00:00</td>\n",
       "      <td>NaN</td>\n",
       "      <td>NaN</td>\n",
       "      <td>NaN</td>\n",
       "    </tr>\n",
       "    <tr>\n",
       "      <th>38906</th>\n",
       "      <td>2017-03-12 02:00:00</td>\n",
       "      <td>NaN</td>\n",
       "      <td>NaN</td>\n",
       "      <td>NaN</td>\n",
       "    </tr>\n",
       "    <tr>\n",
       "      <th>47642</th>\n",
       "      <td>2018-03-11 02:00:00</td>\n",
       "      <td>NaN</td>\n",
       "      <td>NaN</td>\n",
       "      <td>NaN</td>\n",
       "    </tr>\n",
       "    <tr>\n",
       "      <th>56378</th>\n",
       "      <td>2019-03-10 02:00:00</td>\n",
       "      <td>NaN</td>\n",
       "      <td>NaN</td>\n",
       "      <td>NaN</td>\n",
       "    </tr>\n",
       "  </tbody>\n",
       "</table>\n",
       "</div>"
      ],
      "text/plain": [
       "                     Date  Fremont Bridge Total  Fremont Bridge East Sidewalk  \\\n",
       "6105  2013-06-14 09:00:00                   NaN                           NaN   \n",
       "6106  2013-06-14 10:00:00                   NaN                           NaN   \n",
       "12530 2014-03-09 02:00:00                   NaN                           NaN   \n",
       "21266 2015-03-08 02:00:00                   NaN                           NaN   \n",
       "22331 2015-04-21 11:00:00                   NaN                           NaN   \n",
       "22332 2015-04-21 12:00:00                   NaN                           NaN   \n",
       "30170 2016-03-13 02:00:00                   NaN                           NaN   \n",
       "38906 2017-03-12 02:00:00                   NaN                           NaN   \n",
       "47642 2018-03-11 02:00:00                   NaN                           NaN   \n",
       "56378 2019-03-10 02:00:00                   NaN                           NaN   \n",
       "\n",
       "       Fremont Bridge West Sidewalk  \n",
       "6105                            NaN  \n",
       "6106                            NaN  \n",
       "12530                           NaN  \n",
       "21266                           NaN  \n",
       "22331                           NaN  \n",
       "22332                           NaN  \n",
       "30170                           NaN  \n",
       "38906                           NaN  \n",
       "47642                           NaN  \n",
       "56378                           NaN  "
      ]
     },
     "execution_count": 28,
     "metadata": {},
     "output_type": "execute_result"
    }
   ],
   "source": [
    "# Check null values\n",
    "raw_data[raw_data.isnull().any(1)]"
   ]
  },
  {
   "cell_type": "code",
   "execution_count": 30,
   "metadata": {},
   "outputs": [],
   "source": [
    "# Remove NULL values and set data types\n",
    "raw_data = raw_data[~raw_data.isnull().any(1)]\n",
    "int_cols = ['Fremont Bridge Total', 'Fremont Bridge East Sidewalk','Fremont Bridge West Sidewalk']\n",
    "raw_data.loc[:,int_cols] = raw_data.loc[:,int_cols].astype(int)"
   ]
  },
  {
   "cell_type": "code",
   "execution_count": 34,
   "metadata": {},
   "outputs": [
    {
     "data": {
      "text/html": [
       "<div>\n",
       "<style scoped>\n",
       "    .dataframe tbody tr th:only-of-type {\n",
       "        vertical-align: middle;\n",
       "    }\n",
       "\n",
       "    .dataframe tbody tr th {\n",
       "        vertical-align: top;\n",
       "    }\n",
       "\n",
       "    .dataframe thead th {\n",
       "        text-align: right;\n",
       "    }\n",
       "</style>\n",
       "<table border=\"1\" class=\"dataframe\">\n",
       "  <thead>\n",
       "    <tr style=\"text-align: right;\">\n",
       "      <th></th>\n",
       "      <th>Date</th>\n",
       "      <th>Fremont Bridge Total</th>\n",
       "      <th>Fremont Bridge East Sidewalk</th>\n",
       "      <th>Fremont Bridge West Sidewalk</th>\n",
       "    </tr>\n",
       "  </thead>\n",
       "  <tbody>\n",
       "    <tr>\n",
       "      <th>0</th>\n",
       "      <td>2012-10-03 00:00:00</td>\n",
       "      <td>13</td>\n",
       "      <td>4</td>\n",
       "      <td>9</td>\n",
       "    </tr>\n",
       "    <tr>\n",
       "      <th>1</th>\n",
       "      <td>2012-10-03 01:00:00</td>\n",
       "      <td>10</td>\n",
       "      <td>4</td>\n",
       "      <td>6</td>\n",
       "    </tr>\n",
       "  </tbody>\n",
       "</table>\n",
       "</div>"
      ],
      "text/plain": [
       "                 Date  Fremont Bridge Total  Fremont Bridge East Sidewalk  \\\n",
       "0 2012-10-03 00:00:00                    13                             4   \n",
       "1 2012-10-03 01:00:00                    10                             4   \n",
       "\n",
       "   Fremont Bridge West Sidewalk  \n",
       "0                             9  \n",
       "1                             6  "
      ]
     },
     "execution_count": 34,
     "metadata": {},
     "output_type": "execute_result"
    }
   ],
   "source": [
    "raw_data.head(2)"
   ]
  },
  {
   "cell_type": "code",
   "execution_count": null,
   "metadata": {},
   "outputs": [],
   "source": [
    "#####                                                                                        #####\n",
    "### 2. Add columns to the dataframe containing: total bicycle count, The hour of the day, year ###\n",
    "#####                                                                                        #####\n",
    "\n",
    "raw_data.loc[:,'Total Bicycle Count'] = (raw_data.loc[:,'Fremont Bridge East Sidewalk'] + \n",
    "                                         raw_data.loc[:,'Fremont Bridge West Sidewalk'])\n",
    "\n",
    "raw_data.loc[:,'Hour'] = raw_data.loc[:,'Date'].dt.hour\n",
    "\n",
    "raw_data.loc[:,'Year'] = raw_data.loc[:,'Date'].dt.year"
   ]
  },
  {
   "cell_type": "code",
   "execution_count": 44,
   "metadata": {},
   "outputs": [
    {
     "data": {
      "text/html": [
       "<div>\n",
       "<style scoped>\n",
       "    .dataframe tbody tr th:only-of-type {\n",
       "        vertical-align: middle;\n",
       "    }\n",
       "\n",
       "    .dataframe tbody tr th {\n",
       "        vertical-align: top;\n",
       "    }\n",
       "\n",
       "    .dataframe thead th {\n",
       "        text-align: right;\n",
       "    }\n",
       "</style>\n",
       "<table border=\"1\" class=\"dataframe\">\n",
       "  <thead>\n",
       "    <tr style=\"text-align: right;\">\n",
       "      <th></th>\n",
       "      <th>Date</th>\n",
       "      <th>Fremont Bridge Total</th>\n",
       "      <th>Fremont Bridge East Sidewalk</th>\n",
       "      <th>Fremont Bridge West Sidewalk</th>\n",
       "      <th>Total Bicycle Count</th>\n",
       "      <th>Hour</th>\n",
       "      <th>Year</th>\n",
       "    </tr>\n",
       "  </thead>\n",
       "  <tbody>\n",
       "    <tr>\n",
       "      <th>0</th>\n",
       "      <td>2012-10-03 00:00:00</td>\n",
       "      <td>13</td>\n",
       "      <td>4</td>\n",
       "      <td>9</td>\n",
       "      <td>13</td>\n",
       "      <td>0</td>\n",
       "      <td>2012</td>\n",
       "    </tr>\n",
       "    <tr>\n",
       "      <th>1</th>\n",
       "      <td>2012-10-03 01:00:00</td>\n",
       "      <td>10</td>\n",
       "      <td>4</td>\n",
       "      <td>6</td>\n",
       "      <td>10</td>\n",
       "      <td>1</td>\n",
       "      <td>2012</td>\n",
       "    </tr>\n",
       "  </tbody>\n",
       "</table>\n",
       "</div>"
      ],
      "text/plain": [
       "                 Date  Fremont Bridge Total  Fremont Bridge East Sidewalk  \\\n",
       "0 2012-10-03 00:00:00                    13                             4   \n",
       "1 2012-10-03 01:00:00                    10                             4   \n",
       "\n",
       "   Fremont Bridge West Sidewalk  Total Bicycle Count  Hour  Year  \n",
       "0                             9                   13     0  2012  \n",
       "1                             6                   10     1  2012  "
      ]
     },
     "execution_count": 44,
     "metadata": {},
     "output_type": "execute_result"
    }
   ],
   "source": [
    "raw_data.head(2)"
   ]
  },
  {
   "cell_type": "code",
   "execution_count": 47,
   "metadata": {},
   "outputs": [],
   "source": [
    "#####                                                              #####\n",
    "### 3. Create a dataframe with the subset of data from the year 2016 ###\n",
    "#####                                                              #####\n",
    "\n",
    "data_2016 = raw_data[raw_data['Year']==2016].reset_index(drop=True)"
   ]
  },
  {
   "cell_type": "code",
   "execution_count": 48,
   "metadata": {},
   "outputs": [
    {
     "data": {
      "text/html": [
       "<div>\n",
       "<style scoped>\n",
       "    .dataframe tbody tr th:only-of-type {\n",
       "        vertical-align: middle;\n",
       "    }\n",
       "\n",
       "    .dataframe tbody tr th {\n",
       "        vertical-align: top;\n",
       "    }\n",
       "\n",
       "    .dataframe thead th {\n",
       "        text-align: right;\n",
       "    }\n",
       "</style>\n",
       "<table border=\"1\" class=\"dataframe\">\n",
       "  <thead>\n",
       "    <tr style=\"text-align: right;\">\n",
       "      <th></th>\n",
       "      <th>Date</th>\n",
       "      <th>Fremont Bridge Total</th>\n",
       "      <th>Fremont Bridge East Sidewalk</th>\n",
       "      <th>Fremont Bridge West Sidewalk</th>\n",
       "      <th>Total Bicycle Count</th>\n",
       "      <th>Hour</th>\n",
       "      <th>Year</th>\n",
       "    </tr>\n",
       "  </thead>\n",
       "  <tbody>\n",
       "    <tr>\n",
       "      <th>0</th>\n",
       "      <td>2016-01-01 00:00:00</td>\n",
       "      <td>18</td>\n",
       "      <td>9</td>\n",
       "      <td>9</td>\n",
       "      <td>18</td>\n",
       "      <td>0</td>\n",
       "      <td>2016</td>\n",
       "    </tr>\n",
       "    <tr>\n",
       "      <th>1</th>\n",
       "      <td>2016-01-01 01:00:00</td>\n",
       "      <td>15</td>\n",
       "      <td>3</td>\n",
       "      <td>12</td>\n",
       "      <td>15</td>\n",
       "      <td>1</td>\n",
       "      <td>2016</td>\n",
       "    </tr>\n",
       "  </tbody>\n",
       "</table>\n",
       "</div>"
      ],
      "text/plain": [
       "                 Date  Fremont Bridge Total  Fremont Bridge East Sidewalk  \\\n",
       "0 2016-01-01 00:00:00                    18                             9   \n",
       "1 2016-01-01 01:00:00                    15                             3   \n",
       "\n",
       "   Fremont Bridge West Sidewalk  Total Bicycle Count  Hour  Year  \n",
       "0                             9                   18     0  2016  \n",
       "1                            12                   15     1  2016  "
      ]
     },
     "execution_count": 48,
     "metadata": {},
     "output_type": "execute_result"
    }
   ],
   "source": [
    "data_2016.head(2)"
   ]
  },
  {
   "cell_type": "code",
   "execution_count": 60,
   "metadata": {},
   "outputs": [
    {
     "data": {
      "text/plain": [
       "Text(0, 0.5, 'Total Bicycle Count')"
      ]
     },
     "execution_count": 60,
     "metadata": {},
     "output_type": "execute_result"
    },
    {
     "data": {
      "image/png": "[encoded data removed]",
      "text/plain": [
       "<Figure size 432x288 with 1 Axes>"
      ]
     },
     "metadata": {
      "needs_background": "light"
     },
     "output_type": "display_data"
    }
   ],
   "source": [
    "#####                                                                                                   #####\n",
    "### 4. Use pandas + matplotlib to plot the counts by hour (hour x-axis, total daily counts on the y-axis) ###\n",
    "#####                                                                                                   #####\n",
    "\n",
    "plt.bar('Hour','Total Bicycle Count',\n",
    "        data=data_2016.groupby('Hour')['Total Bicycle Count'].sum().reset_index())\n",
    "plt.title(\"Freemont Bridge Hourly Bicycle Trip Totals for 2016\")\n",
    "plt.xlabel(\"Hour\")\n",
    "plt.ylabel(\"Total Bicycle Count\")"
   ]
  },
  {
   "cell_type": "code",
   "execution_count": 66,
   "metadata": {},
   "outputs": [
    {
     "name": "stdout",
     "output_type": "stream",
     "text": [
      "The busiest hour of the day (on average) for the Freemont Bridge bicycle traffic in 2016 is 17:00\n"
     ]
    }
   ],
   "source": [
    "#####                                                                        ######\n",
    "### 5. Use pandas to determine what is (on average) the busiest hour of the day ###\n",
    "#####                                                                        ######\n",
    "\n",
    "max_hr = data_2016.groupby('Hour')['Total Bicycle Count'].mean().reset_index().sort_values('Total Bicycle Count').iloc[-1,0]\n",
    "print('The busiest hour of the day (on average) for the Freemont Bridge bicycle traffic in 2016 is {}:00'.format(max_hr))"
   ]
  }
 ],
 "metadata": {
  "kernelspec": {
   "display_name": "Python 3",
   "language": "python",
   "name": "python3"
  },
  "language_info": {
   "codemirror_mode": {
    "name": "ipython",
    "version": 3
   },
   "file_extension": ".py",
   "mimetype": "text/x-python",
   "name": "python",
   "nbconvert_exporter": "python",
   "pygments_lexer": "ipython3",
   "version": "3.7.7"
  }
 },
 "nbformat": 4,
 "nbformat_minor": 4
}
